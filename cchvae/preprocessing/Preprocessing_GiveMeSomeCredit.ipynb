{
 "cells": [
  {
   "cell_type": "code",
   "execution_count": 11,
   "metadata": {},
   "outputs": [],
   "source": [
    "import numpy as np\n",
    "import pandas as pd\n",
    "import matplotlib\n",
    "from matplotlib import pyplot as plt"
   ]
  },
  {
   "cell_type": "code",
   "execution_count": 17,
   "metadata": {},
   "outputs": [
    {
     "name": "stdout",
     "output_type": "stream",
     "text": [
      "Index(['SeriousDlqin2yrs', 'RevolvingUtilizationOfUnsecuredLines', 'age',\n",
      "       'NumberOfTime30-59DaysPastDueNotWorse', 'DebtRatio', 'MonthlyIncome',\n",
      "       'NumberOfOpenCreditLinesAndLoans', 'NumberOfTimes90DaysLate',\n",
      "       'NumberRealEstateLoansOrLines', 'NumberOfTime60-89DaysPastDueNotWorse',\n",
      "       'NumberOfDependents'],\n",
      "      dtype='object')\n"
     ]
    }
   ],
   "source": [
    "# Credit Data Processing\n",
    "# For further info on constraints imposed below: see also appendix in Ustun et al (2018)\n",
    "raw_df = pd.read_csv('cs-training.txt')\n",
    "processed_df = raw_df\n",
    "\n",
    "# drop NAs & unnamed column & convert boolean to numeric\n",
    "processed_df = processed_df.dropna()\n",
    "processed_df = processed_df.drop(columns='Unnamed: 0')\n",
    "processed_df = processed_df + 0 \n",
    "processed_df = processed_df.loc[processed_df['age']<88]\n",
    "\n",
    "# look at column names\n",
    "print(processed_df.columns)"
   ]
  },
  {
   "cell_type": "code",
   "execution_count": 18,
   "metadata": {},
   "outputs": [
    {
     "name": "stdout",
     "output_type": "stream",
     "text": [
      "Index(['RevolvingUtilizationOfUnsecuredLines',\n",
      "       'NumberOfTime30-59DaysPastDueNotWorse', 'DebtRatio', 'MonthlyIncome',\n",
      "       'NumberOfOpenCreditLinesAndLoans', 'NumberOfTimes90DaysLate',\n",
      "       'NumberRealEstateLoansOrLines', 'NumberOfTime60-89DaysPastDueNotWorse'],\n",
      "      dtype='object')\n"
     ]
    }
   ],
   "source": [
    "# Labels, protected & free featuers\n",
    "# labels\n",
    "epsilon = 1e-4\n",
    "# we clip 0 to avoid evaluation errors when using log normal likelihood\n",
    "\n",
    "labels = processed_df[processed_df.columns[0]]\n",
    "labels.columns = [processed_df.columns[0]]\n",
    "# conditioning set/protected set\n",
    "conditionals = processed_df[[processed_df.columns[2], processed_df.columns[10]]]\n",
    "conditionals.columns = [processed_df.columns[2], processed_df.columns[10]]\n",
    "# free features\n",
    "free = processed_df.drop(columns=[processed_df.columns[0], processed_df.columns[2], processed_df.columns[10]])\n",
    "free[free.columns[0]] = np.clip(free.values[:,0], epsilon, 1e20)\n",
    "free[free.columns[2]] = np.clip(free.values[:,2], epsilon, 1e20)\n",
    "free[free.columns[3]] = np.clip(free.values[:,3], epsilon, 1e20)\n",
    "print(free.columns)"
   ]
  },
  {
   "cell_type": "code",
   "execution_count": 19,
   "metadata": {},
   "outputs": [],
   "source": [
    "# Save to CSV\n",
    "#free.to_csv('give_me_x_35.csv', header = False, index = False)\n",
    "#conditionals.to_csv('give_me_x_c_35.csv', header = False, index = False)\n",
    "#labels.to_csv('give_me_y_35.csv', header = False, index = False)"
   ]
  }
 ],
 "metadata": {
  "kernelspec": {
   "display_name": "Python 3",
   "language": "python",
   "name": "python3"
  },
  "language_info": {
   "codemirror_mode": {
    "name": "ipython",
    "version": 3
   },
   "file_extension": ".py",
   "mimetype": "text/x-python",
   "name": "python",
   "nbconvert_exporter": "python",
   "pygments_lexer": "ipython3",
   "version": "3.6.8"
  }
 },
 "nbformat": 4,
 "nbformat_minor": 2
}
