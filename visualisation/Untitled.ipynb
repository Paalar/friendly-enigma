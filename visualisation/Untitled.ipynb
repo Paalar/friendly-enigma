{
 "cells": [
  {
   "cell_type": "code",
   "execution_count": 14,
   "id": "69325cab",
   "metadata": {},
   "outputs": [
    {
     "data": {
      "text/plain": [
       "False    49989\n",
       "True        11\n",
       "dtype: int64"
      ]
     },
     "execution_count": 14,
     "metadata": {},
     "output_type": "execute_result"
    }
   ],
   "source": [
    "import pandas as pd\n",
    "fake_data_1 = pd.read_csv(\"../data/fake/fake_data_2.csv\")\n",
    "fake_data_2 = pd.read_csv(\"../data/fake/fake_data_3.csv\")\n",
    "\n",
    "fake_data_1.duplicated().value_counts()\n"
   ]
  },
  {
   "cell_type": "code",
   "execution_count": 15,
   "id": "f687dd8e",
   "metadata": {},
   "outputs": [
    {
     "data": {
      "text/plain": [
       "False    49989\n",
       "True        11\n",
       "dtype: int64"
      ]
     },
     "execution_count": 15,
     "metadata": {},
     "output_type": "execute_result"
    }
   ],
   "source": [
    "fake_data_2.duplicated().value_counts()"
   ]
  }
 ],
 "metadata": {
  "kernelspec": {
   "display_name": "Python 3",
   "language": "python",
   "name": "python3"
  },
  "language_info": {
   "codemirror_mode": {
    "name": "ipython",
    "version": 3
   },
   "file_extension": ".py",
   "mimetype": "text/x-python",
   "name": "python",
   "nbconvert_exporter": "python",
   "pygments_lexer": "ipython3",
   "version": "3.8.5"
  }
 },
 "nbformat": 4,
 "nbformat_minor": 5
}
