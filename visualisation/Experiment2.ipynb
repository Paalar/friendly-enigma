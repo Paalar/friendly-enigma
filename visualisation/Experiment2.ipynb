{
 "cells": [
  {
   "cell_type": "markdown",
   "id": "49f39c58",
   "metadata": {},
   "source": [
    "# Experiment 2"
   ]
  },
  {
   "cell_type": "markdown",
   "id": "329f68ea",
   "metadata": {},
   "source": [
    "### Accuracy"
   ]
  },
  {
   "cell_type": "code",
   "execution_count": 1,
   "id": "3a159cf4",
   "metadata": {},
   "outputs": [],
   "source": [
    "acc5stl = [\n",
    "    0.9545333385467529,\n",
    "    0.9552000164985657,\n",
    "    0.9552000164985657,\n",
    "    0.9550666809082031,\n",
    "    0.9534666538238525,\n",
    "    0.9542666673660278,\n",
    "    0.9542666673660278,\n",
    "    0.9550666809082031,\n",
    "    0.9544000029563904,\n",
    "    0.9549333453178406\n",
    "]\n",
    "\n",
    "acc5mtl = [\n",
    "    0.8004000186920166,\n",
    "    0.8004000186920166,\n",
    "    0.8004000186920166,\n",
    "    0.8004000186920166,\n",
    "    0.8004000186920166,\n",
    "    0.8004000186920166,\n",
    "    0.8004000186920166,\n",
    "    0.8004000186920166,\n",
    "    0.8004000186920166,\n",
    "    0.8004000186920166,\n",
    "]\n",
    "\n",
    "acc10stl = [\n",
    "    0.9562666416168213,\n",
    "    0.9570666551589966,\n",
    "    0.9566666483879089,\n",
    "    0.9559999704360962,\n",
    "    0.9573333263397217,\n",
    "    0.9561333060264587,\n",
    "    0.9565333127975464,\n",
    "    0.956933319568634,\n",
    "    0.9575999975204468,\n",
    "    0.9556000232696533,\n",
    "]\n",
    "\n",
    "acc10mtl = [\n",
    "    0.9277333617210388,\n",
    "    0.9246666431427002,\n",
    "    0.9363999962806702,\n",
    "    0.9014666676521301,\n",
    "    0.9085333347320557,\n",
    "    0.888533353805542,\n",
    "    0.8613333106040955,\n",
    "    0.9340000152587891,\n",
    "    0.9389333128929138,\n",
    "    0.8934666514396667,\n",
    "]\n",
    "\n"
   ]
  },
  {
   "cell_type": "code",
   "execution_count": 5,
   "id": "44d91eff",
   "metadata": {},
   "outputs": [
    {
     "name": "stdout",
     "output_type": "stream",
     "text": [
      "5% Data,\t STL:  0.954640007019043\n",
      "5% Data,\t MTL:  0.8004000186920166\n",
      "10% Data,\t STL:  0.9566133201122284\n",
      "10% Data,\t MTL:  0.9115066647529602\n"
     ]
    }
   ],
   "source": [
    "def avg(lst):\n",
    "    return sum(lst)/len(lst)\n",
    "\n",
    "print(\"5% Data,\\t STL: \", avg(acc5stl))\n",
    "print(\"5% Data,\\t MTL: \", avg(acc5mtl))\n",
    "print(\"10% Data,\\t STL: \", avg(acc10stl))\n",
    "print(\"10% Data,\\t MTL: \", avg(acc10mtl))"
   ]
  },
  {
   "cell_type": "markdown",
   "id": "17b7218c",
   "metadata": {},
   "source": [
    "### "
   ]
  }
 ],
 "metadata": {
  "kernelspec": {
   "display_name": "Python 3",
   "language": "python",
   "name": "python3"
  },
  "language_info": {
   "codemirror_mode": {
    "name": "ipython",
    "version": 3
   },
   "file_extension": ".py",
   "mimetype": "text/x-python",
   "name": "python",
   "nbconvert_exporter": "python",
   "pygments_lexer": "ipython3",
   "version": "3.8.5"
  }
 },
 "nbformat": 4,
 "nbformat_minor": 5
}
